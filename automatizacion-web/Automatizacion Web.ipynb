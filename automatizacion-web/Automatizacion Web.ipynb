{
 "cells": [
  {
   "cell_type": "code",
   "execution_count": 1,
   "id": "62711f6b",
   "metadata": {},
   "outputs": [],
   "source": [
    "from selenium import webdriver\n",
    "from selenium.webdriver.chrome.service import Service\n",
    "from selenium.webdriver.chrome.options import Options\n",
    "from selenium.webdriver.common.by import *\n",
    "from selenium.common.exceptions import NoSuchElementException\n",
    "from selenium.webdriver.support.ui import WebDriverWait\n",
    "from selenium.webdriver.support import expected_conditions as EC\n",
    "import time"
   ]
  },
  {
   "cell_type": "code",
   "execution_count": 2,
   "id": "1c39bf27",
   "metadata": {},
   "outputs": [],
   "source": [
    "# Ruta al ChromeDriver\n",
    "driver_path = r\"C:\\Users\\keidd\\Downloads\\chromedriver-win64\\chromedriver-win64\\chromedriver.exe\"\n",
    "\n",
    "# Crea el objeto de Service con la ruta al ChromeDriver\n",
    "service = Service(driver_path)\n",
    "\n",
    "# Iniciar el navegador (en este caso Chrome) usando el Service\n",
    "driver = webdriver.Chrome(service=service)\n",
    "time.sleep(5)  "
   ]
  },
  {
   "cell_type": "code",
   "execution_count": 3,
   "id": "91a776eb",
   "metadata": {},
   "outputs": [],
   "source": [
    "def is_logged_in():\n",
    "    try:\n",
    "        # Intenta encontrar el botón de \"Iniciar sesión\"\n",
    "        driver.find_element(By.XPATH, \"//button[text()='Iniciar sesión']\")\n",
    "        return False  # No está logueado\n",
    "    except NoSuchElementException:\n",
    "        return True  # Ya está logueado\n",
    "\n",
    "def login():\n",
    "    if not is_logged_in():\n",
    "        try:\n",
    "        # Llama a complete_input_field para el usuario y la contraseña\n",
    "            complete_input_field(\"username\", \"desafiodataentry\")\n",
    "            complete_input_field(\"password\", \"desafiodataentrypass\")\n",
    "        \n",
    "        #Hacer click en el boton de iniciar sesion\n",
    "            login_button = driver.find_element(By.XPATH, \"//button[text()='Iniciar sesión']\")\n",
    "            login_button.click()\n",
    "            print(\"Inicio de sesión realizado\")\n",
    "        except Exception as e:\n",
    "            print(f\"Se produjo un error al intentar iniciar sesión: {e}\")\n",
    "    else:\n",
    "        print(\"Ya estás logueado, se ignora el inicio de sesión.\")"
   ]
  },
  {
   "cell_type": "code",
   "execution_count": 4,
   "id": "a7984e0a",
   "metadata": {},
   "outputs": [],
   "source": [
    "def complete_input_field(field_identifier, text):\n",
    "    \"\"\"\n",
    "    Completa un campo de entrada en una página web usando el ID del campo.\n",
    "\n",
    "    field_identifier: Identificador del campo (ID).\n",
    "    text: Texto a ingresar en el campo.\n",
    "    \"\"\"\n",
    "\n",
    "    try:\n",
    "       # Localiza el campo de entrada usando By.ID\n",
    "        input_field = driver.find_element(By.ID, field_identifier)\n",
    "        \n",
    "        # Limpiar el campo antes de ingresar el texto\n",
    "        input_field.clear()\n",
    "        \n",
    "        # Completar el campo de entrada\n",
    "        input_field.send_keys(text)\n",
    "\n",
    "\n",
    "    except Exception as e:\n",
    "        print(f\"Se produjo un error: {e}\")\n"
   ]
  },
  {
   "cell_type": "code",
   "execution_count": 5,
   "id": "7fc14f5b",
   "metadata": {},
   "outputs": [],
   "source": [
    "def select_all_checkboxes():\n",
    "    \"\"\"\n",
    "    Selecciona todos los checkboxes en la página.\n",
    "    \"\"\"\n",
    "    try:\n",
    "        # Encuentra todos los checkboxes en la página\n",
    "        checkboxes = driver.find_elements(By.XPATH, \"//input[@type='checkbox']\")\n",
    "        \n",
    "        # Iterar sobre cada checkbox y seleccionar si no está seleccionado\n",
    "        for checkbox in checkboxes:\n",
    "            if not checkbox.is_selected():\n",
    "                checkbox.click()  # Hacer clic para seleccionar el checkbox\n",
    "        \n",
    "        print(\"Todos los checkboxes han sido seleccionados.\")\n",
    "    \n",
    "    except Exception as e:\n",
    "        print(f\"Se produjo un error al seleccionar los checkboxes: {e}\")\n"
   ]
  },
  {
   "cell_type": "code",
   "execution_count": 6,
   "id": "d87f52ed",
   "metadata": {},
   "outputs": [],
   "source": [
    "def return_to_home():\n",
    "    # Regresa a la página de inicio\n",
    "    print(\"Regresando a la página de inicio...\")\n",
    "    driver.get(\"https://desafiodataentryait.vercel.app/\")  \n",
    "    time.sleep(2)  "
   ]
  },
  {
   "cell_type": "code",
   "execution_count": 7,
   "id": "999bb3e5",
   "metadata": {},
   "outputs": [],
   "source": [
    "def wait_for_text_to_disappear(text, timeout=120):\n",
    "    \"\"\"\n",
    "    Espera hasta que el texto especificado desaparezca del DOM.\n",
    "    \n",
    "    :param text: Texto que debe desaparecer.\n",
    "    :param timeout: Tiempo máximo de espera (en segundos).\n",
    "    \"\"\"\n",
    "    try:\n",
    "        WebDriverWait(driver, timeout).until_not(\n",
    "            EC.text_to_be_present_in_element((By.XPATH, \"//*[contains(text(), 'Generando listas...')]\"), text))\n",
    "    except TimeoutException:\n",
    "        print(f\"El texto '{text}' no desapareció después de {timeout} segundos.\")\n",
    "\n",
    "def wait_for_download():\n",
    "    \"\"\"\n",
    "    Realiza el proceso de descarga y espera hasta que desaparezca el texto 'Generando listas...'.\n",
    "    \"\"\"\n",
    "    try:\n",
    "  \n",
    "        # Esperar a que aparezca el texto 'Generando listas...'\n",
    "        WebDriverWait(driver, 10).until(\n",
    "            EC.text_to_be_present_in_element((By.XPATH, \"//*[contains(text(), 'Generando listas')]\"), \"Generando listas\")\n",
    "        )\n",
    "\n",
    "        # Esperar hasta que desaparezca el texto 'Generando listas...'\n",
    "        wait_for_text_to_disappear(\"Generando listas\")\n",
    "        print(\"Proceso completado.\")\n",
    "\n",
    "    except Exception as e:\n",
    "        print(f\"Se produjo un error: {e}\")\n"
   ]
  },
  {
   "cell_type": "code",
   "execution_count": 8,
   "id": "7cb08245",
   "metadata": {},
   "outputs": [],
   "source": [
    "def download_autorepuestos():\n",
    "# Lógica de descarga para el proveedor 'autorepuestos'\n",
    "    try:\n",
    "        download_button = driver.find_element(By.ID, \"download-button-autorepuestos-express\")  \n",
    "        download_button.click()\n",
    "        print(\"Descarga de listas autorepuestos exitosa.\")\n",
    "    \n",
    "    except Exception as e:\n",
    "        print(f\"Se produjo un error al descargar la lista: {e}\")"
   ]
  },
  {
   "cell_type": "code",
   "execution_count": 9,
   "id": "277805b7",
   "metadata": {},
   "outputs": [],
   "source": [
    "def download_autofix():\n",
    "#Lógica de descarga para el proveedor 'AutoFix'. \n",
    "    try:\n",
    "        download_button = driver.find_element(By.ID, \"download-button-autofix\")  \n",
    "        download_button.click()\n",
    "        login()\n",
    "        time.sleep(5)\n",
    "        select_all_checkboxes()\n",
    "        descargar_listas = driver.find_element(By.XPATH, \"//button[text()='Descargar lista de precios']\")\n",
    "\n",
    "        descargar_listas.click()\n",
    "        wait_for_download()\n",
    "        print(f\"Descarga de listas autofix exitosa\")\n",
    "    except Exception as e:\n",
    "        print(f\"Se produjo un error en download_autofix: {e}\")"
   ]
  },
  {
   "cell_type": "code",
   "execution_count": 10,
   "id": "184af67c",
   "metadata": {},
   "outputs": [],
   "source": [
    "def download_mundorepcar():\n",
    "   # Lógica de descarga para el proveedor 'MundoRepCar'.\n",
    "    try:\n",
    "        download_button = driver.find_element(By.ID, \"download-button-mundo-repcar\")  \n",
    "        download_button.click()\n",
    "        login()\n",
    "        time.sleep(5)\n",
    "        descargar_listas = driver.find_element(By.LINK_TEXT, \"Descargar lista de precios\")\n",
    "\n",
    "        descargar_listas.click()\n",
    "        \n",
    "       \n",
    "        \n",
    "        print(f\"Descarga de listas mundo repcar exitosa\")\n",
    "    except Exception as e:\n",
    "        print(f\"Se produjo un error en download_mundorepcar: {e}\")"
   ]
  },
  {
   "cell_type": "code",
   "execution_count": 11,
   "id": "dfda6843",
   "metadata": {},
   "outputs": [],
   "source": [
    "def download_all_providers(): #descarga todas las listas de todos los proveedores\n",
    "    providers = [download_autofix, download_autorepuestos, download_mundorepcar]\n",
    " \n",
    "    #Ir a la pagina web\n",
    "    driver.get(\"https://desafiodataentryait.vercel.app/\")\n",
    "    time.sleep(5) \n",
    "    \n",
    "    for provider in providers:\n",
    "        provider()  # Llama a la función de descarga para el proveedor\n",
    "        return_to_home()  # Regresa a la página de inicio después de cada descarga\n",
    "    print(\"Descargas completas\")"
   ]
  },
  {
   "cell_type": "code",
   "execution_count": 12,
   "id": "58b2b5c4",
   "metadata": {},
   "outputs": [
    {
     "name": "stdout",
     "output_type": "stream",
     "text": [
      "Inicio de sesión realizado\n",
      "Todos los checkboxes han sido seleccionados.\n",
      "Proceso completado.\n",
      "Descarga de listas autofix exitosa\n",
      "Regresando a la página de inicio...\n",
      "Descarga de listas autorepuestos exitosa.\n",
      "Regresando a la página de inicio...\n",
      "Ya estás logueado, se ignora el inicio de sesión.\n",
      "Descarga de listas mundo repcar exitosa\n",
      "Regresando a la página de inicio...\n",
      "Descargas completas\n"
     ]
    }
   ],
   "source": [
    "# Iniciar el proceso\n",
    "try:\n",
    "    download_all_providers()\n",
    "finally:\n",
    "    driver.quit()  # Cerrar el navegador después de todas las descargas"
   ]
  },
  {
   "cell_type": "code",
   "execution_count": null,
   "id": "7eab6ac4",
   "metadata": {},
   "outputs": [],
   "source": []
  }
 ],
 "metadata": {
  "kernelspec": {
   "display_name": "Python 3 (ipykernel)",
   "language": "python",
   "name": "python3"
  },
  "language_info": {
   "codemirror_mode": {
    "name": "ipython",
    "version": 3
   },
   "file_extension": ".py",
   "mimetype": "text/x-python",
   "name": "python",
   "nbconvert_exporter": "python",
   "pygments_lexer": "ipython3",
   "version": "3.9.13"
  }
 },
 "nbformat": 4,
 "nbformat_minor": 5
}
